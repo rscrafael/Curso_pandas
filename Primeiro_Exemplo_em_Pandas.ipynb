{
  "nbformat": 4,
  "nbformat_minor": 0,
  "metadata": {
    "colab": {
      "provenance": [],
      "authorship_tag": "ABX9TyNHrWRVcw9rHf9FQJPr0W/0",
      "include_colab_link": true
    },
    "kernelspec": {
      "name": "python3",
      "display_name": "Python 3"
    },
    "language_info": {
      "name": "python"
    }
  },
  "cells": [
    {
      "cell_type": "markdown",
      "metadata": {
        "id": "view-in-github",
        "colab_type": "text"
      },
      "source": [
        "<a href=\"https://colab.research.google.com/github/rscrafael/Curso_pandas/blob/main/Primeiro_Exemplo_em_Pandas.ipynb\" target=\"_parent\"><img src=\"https://colab.research.google.com/assets/colab-badge.svg\" alt=\"Open In Colab\"/></a>"
      ]
    },
    {
      "cell_type": "markdown",
      "source": [
        "Primeiro exemplo de manipulação de dados usando python pandas\n",
        "\n",
        "Autor: Rafael S. Cardozo\n",
        "Data: 06/02/2023"
      ],
      "metadata": {
        "id": "XgmkO6_RUiK_"
      }
    },
    {
      "cell_type": "code",
      "execution_count": null,
      "metadata": {
        "id": "slGCZQlxCuNC"
      },
      "outputs": [],
      "source": [
        "print('Hello world')"
      ]
    },
    {
      "cell_type": "code",
      "source": [
        "#Importado biblioteca pandas no Python\n",
        "import pandas as pd\n",
        "\n",
        "combustiveis_df = pd.read_excel(\"ca-2021-02.xlsx\")"
      ],
      "metadata": {
        "id": "hQCvBDZ7Jf1z"
      },
      "execution_count": 3,
      "outputs": []
    },
    {
      "cell_type": "code",
      "source": [
        "#Usa o print para ver o dataframe!\n",
        "print(combustiveis_df)"
      ],
      "metadata": {
        "id": "ZHy1jMPLA82d"
      },
      "execution_count": null,
      "outputs": []
    },
    {
      "cell_type": "code",
      "source": [
        "display(combustiveis_df)"
      ],
      "metadata": {
        "id": "M1MilfsqCIDe"
      },
      "execution_count": null,
      "outputs": []
    },
    {
      "cell_type": "code",
      "source": [
        "#Quero, na verdade, exibir as primeiras 15 linhas\n",
        "display(combustiveis_df.head(15))"
      ],
      "metadata": {
        "id": "V4Y8x5zZVFVG"
      },
      "execution_count": null,
      "outputs": []
    },
    {
      "cell_type": "code",
      "source": [
        "#Comandos Dataframe.shape e Dataframe.describe()\n",
        "print(combustiveis_df.shape)\n",
        "#Mostrar o numero de linhas e colunas (linhas, colunas)\n",
        "\n",
        "#Só as linhas\n",
        "print(combustiveis_df.shape[0])"
      ],
      "metadata": {
        "id": "zjeexI3tLeCV"
      },
      "execution_count": null,
      "outputs": []
    },
    {
      "cell_type": "code",
      "source": [
        "#Quais são as colunas e que tipo de dados cada um tem...\n",
        "print(combustiveis_df.info())"
      ],
      "metadata": {
        "id": "yN_vp9tnKeEv"
      },
      "execution_count": null,
      "outputs": []
    },
    {
      "cell_type": "code",
      "source": [
        "#Describe() mostra a estatístiva mais básica que a gente precisa\n",
        "print(combustiveis_df.describe())"
      ],
      "metadata": {
        "id": "1dY13f8hJusV"
      },
      "execution_count": null,
      "outputs": []
    },
    {
      "cell_type": "code",
      "source": [
        "#filtrar apenas por uma coluna .head(numero de linhas) para aperecer o número de linhas\n",
        "display(combustiveis_df['Revenda'])"
      ],
      "metadata": {
        "id": "Ax6p6mT3TqP8"
      },
      "execution_count": null,
      "outputs": []
    },
    {
      "cell_type": "code",
      "source": [
        "#Aqui criamos um novo Dataframe apenas com as colunas que eu quero...\n",
        "ca_df = combustiveis_df[['Revenda', 'Municipio', 'Produto', 'Valor de Venda']]\n",
        "display(ca_df)"
      ],
      "metadata": {
        "id": "bJIbhuvQZp7J"
      },
      "execution_count": null,
      "outputs": []
    },
    {
      "cell_type": "code",
      "source": [
        "#Exibe a 4a. linha\n",
        "display(ca_df.loc[3])"
      ],
      "metadata": {
        "id": "MFRe0zOcbb82"
      },
      "execution_count": null,
      "outputs": []
    },
    {
      "cell_type": "code",
      "source": [
        "#exibir as linhas que eu desejo\n",
        "display(ca_df.loc[9:19])"
      ],
      "metadata": {
        "id": "lQaDjS-MdIzR"
      },
      "execution_count": null,
      "outputs": []
    },
    {
      "cell_type": "code",
      "source": [
        "#Criar um dataframe gas_df contendo apenas as 4 colunas (Revenda, Municipio, Produto, Valor de Venda) e mostrar somente Gasolina\n",
        "gas_df = ca_df.loc[ca_df['Produto'] == 'GASOLINA']\n",
        "display(gas_df)"
      ],
      "metadata": {
        "id": "rIriCUlTeLjG"
      },
      "execution_count": null,
      "outputs": []
    },
    {
      "cell_type": "code",
      "source": [
        "display(gas_df['Valor de Venda'].max())"
      ],
      "metadata": {
        "id": "OHED1zIpgkUt"
      },
      "execution_count": null,
      "outputs": []
    },
    {
      "cell_type": "code",
      "source": [
        "#Se eu quiser qual é o posto e municipio mais cara do Brasil\n",
        "display(gas_df[['Revenda', 'Municipio', 'Valor de Venda']].max())"
      ],
      "metadata": {
        "id": "dYeHCfu0hMXH"
      },
      "execution_count": null,
      "outputs": []
    },
    {
      "cell_type": "code",
      "source": [
        "gas_df = gas_df.loc[gas_df['Municipio'] == 'JOINVILLE'].max()\n",
        "display(gas_df)"
      ],
      "metadata": {
        "id": "ddtyWJ_UgAt0"
      },
      "execution_count": null,
      "outputs": []
    }
  ]
}