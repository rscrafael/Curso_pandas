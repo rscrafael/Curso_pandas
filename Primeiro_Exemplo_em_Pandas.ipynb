{
  "nbformat": 4,
  "nbformat_minor": 0,
  "metadata": {
    "colab": {
      "provenance": [],
      "authorship_tag": "ABX9TyNHrWRVcw9rHf9FQJPr0W/0",
      "include_colab_link": true
    },
    "kernelspec": {
      "name": "python3",
      "display_name": "Python 3"
    },
    "language_info": {
      "name": "python"
    }
  },
  "cells": [
    {
      "cell_type": "markdown",
      "metadata": {
        "id": "view-in-github",
        "colab_type": "text"
      },
      "source": [
        "<a href=\"https://colab.research.google.com/github/rscrafael/Curso_pandas/blob/main/Primeiro_Exemplo_em_Pandas.ipynb\" target=\"_parent\"><img src=\"https://colab.research.google.com/assets/colab-badge.svg\" alt=\"Open In Colab\"/></a>"
      ]
    },
    {
      "cell_type": "markdown",
      "source": [
        "Primeiro exemplo de manipulação de dados usando python pandas\n",
        "\n",
        "Autor: Rafael S. Cardozo\n",
        "Data: 06/02/2023"
      ],
      "metadata": {
        "id": "XgmkO6_RUiK_"
      }
    },
    {
      "cell_type": "code",
      "execution_count": 4,
      "metadata": {
        "colab": {
          "base_uri": "https://localhost:8080/"
        },
        "id": "slGCZQlxCuNC",
        "outputId": "5c025b0e-6406-4a10-ef08-90a4384576de"
      },
      "outputs": [
        {
          "output_type": "stream",
          "name": "stdout",
          "text": [
            "Hello world\n"
          ]
        }
      ],
      "source": [
        "print('Hello world')"
      ]
    },
    {
      "cell_type": "code",
      "source": [
        "#Importado biblioteca pandas no Python\n",
        "import pandas as pd\n",
        "\n",
        "combustiveis_df = pd.read_excel(\"ca-2021-02.xlsx\")"
      ],
      "metadata": {
        "id": "hQCvBDZ7Jf1z"
      },
      "execution_count": 5,
      "outputs": []
    },
    {
      "cell_type": "code",
      "source": [
        "#Usa o print para ver o dataframe!\n",
        "print(combustiveis_df)"
      ],
      "metadata": {
        "id": "ZHy1jMPLA82d"
      },
      "execution_count": null,
      "outputs": []
    },
    {
      "cell_type": "code",
      "source": [
        "display(combustiveis_df)"
      ],
      "metadata": {
        "id": "M1MilfsqCIDe"
      },
      "execution_count": null,
      "outputs": []
    },
    {
      "cell_type": "code",
      "source": [
        "#Quero, na verdade, exibir as primeiras 15 linhas\n",
        "display(combustiveis_df.head(15))"
      ],
      "metadata": {
        "id": "V4Y8x5zZVFVG"
      },
      "execution_count": null,
      "outputs": []
    },
    {
      "cell_type": "code",
      "source": [
        "#Comandos Dataframe.shape e Dataframe.describe()\n",
        "print(combustiveis_df.shape)\n",
        "#Mostrar o numero de linhas e colunas (linhas, colunas)\n",
        "\n",
        "#Só as linhas\n",
        "print(combustiveis_df.shape[0])"
      ],
      "metadata": {
        "id": "zjeexI3tLeCV"
      },
      "execution_count": null,
      "outputs": []
    },
    {
      "cell_type": "code",
      "source": [
        "#Quais são as colunas e que tipo de dados cada um tem...\n",
        "print(combustiveis_df.info())"
      ],
      "metadata": {
        "id": "yN_vp9tnKeEv"
      },
      "execution_count": null,
      "outputs": []
    },
    {
      "cell_type": "code",
      "source": [
        "#Describe() mostra a estatístiva mais básica que a gente precisa\n",
        "print(combustiveis_df.describe())"
      ],
      "metadata": {
        "id": "1dY13f8hJusV"
      },
      "execution_count": null,
      "outputs": []
    },
    {
      "cell_type": "code",
      "source": [
        "#filtrar apenas por uma coluna .head(numero de linhas) para aperecer o número de linhas\n",
        "display(combustiveis_df['Revenda'])"
      ],
      "metadata": {
        "colab": {
          "base_uri": "https://localhost:8080/",
          "height": 208
        },
        "id": "Ax6p6mT3TqP8",
        "outputId": "dcd46826-5b68-465e-d5a9-291d1a9a4b85"
      },
      "execution_count": 17,
      "outputs": [
        {
          "output_type": "display_data",
          "data": {
            "text/plain": [
              "0              POSTO ARAPIRACA LTDA\n",
              "1              POSTO ARAPIRACA LTDA\n",
              "2              POSTO ARAPIRACA LTDA\n",
              "3              POSTO ARAPIRACA LTDA\n",
              "4              POSTO ARAPIRACA LTDA\n",
              "5    AUTO POSTO FREITAS & MAIA LTDA\n",
              "6    AUTO POSTO FREITAS & MAIA LTDA\n",
              "7    AUTO POSTO FREITAS & MAIA LTDA\n",
              "8    AUTO POSTO FREITAS & MAIA LTDA\n",
              "9    AUTO POSTO FREITAS & MAIA LTDA\n",
              "Name: Revenda, dtype: object"
            ]
          },
          "metadata": {}
        }
      ]
    },
    {
      "cell_type": "code",
      "source": [
        "#Aqui criamos um novo Dataframe apenas com as colunas que eu quero...\n",
        "ca_df = combustiveis_df[['Revenda', 'Municipio', 'Produto', 'Valor de Venda']]\n",
        "display(ca_df)"
      ],
      "metadata": {
        "id": "bJIbhuvQZp7J"
      },
      "execution_count": null,
      "outputs": []
    },
    {
      "cell_type": "code",
      "source": [
        "#Exibe a 4a. linha\n",
        "display(ca_df.loc[3])"
      ],
      "metadata": {
        "colab": {
          "base_uri": "https://localhost:8080/",
          "height": 104
        },
        "id": "MFRe0zOcbb82",
        "outputId": "d51f19d3-d2b8-4601-8d05-ad3d184edf65"
      },
      "execution_count": 22,
      "outputs": [
        {
          "output_type": "display_data",
          "data": {
            "text/plain": [
              "Revenda           POSTO ARAPIRACA LTDA\n",
              "Municipio                    ARAPIRACA\n",
              "Produto             GASOLINA ADITIVADA\n",
              "Valor de Venda                   6.899\n",
              "Name: 3, dtype: object"
            ]
          },
          "metadata": {}
        }
      ]
    },
    {
      "cell_type": "code",
      "source": [
        "#exibir as linhas que eu desejo\n",
        "display(ca_df.loc[9:19])"
      ],
      "metadata": {
        "id": "lQaDjS-MdIzR"
      },
      "execution_count": null,
      "outputs": []
    },
    {
      "cell_type": "code",
      "source": [
        "#Criar um dataframe gas_df contendo apenas as 4 colunas (Revenda, Municipio, Produto, Valor de Venda) e mostrar somente Gasolina\n",
        "gas_df = ca_df.loc[ca_df['Produto'] == 'GASOLINA']\n",
        "display(gas_df)"
      ],
      "metadata": {
        "colab": {
          "base_uri": "https://localhost:8080/",
          "height": 424
        },
        "id": "rIriCUlTeLjG",
        "outputId": "f90288bc-f709-4f42-8c04-fa847eaee598"
      },
      "execution_count": 35,
      "outputs": [
        {
          "output_type": "display_data",
          "data": {
            "text/plain": [
              "                                                  Revenda  \\\n",
              "0                                    POSTO ARAPIRACA LTDA   \n",
              "5                          AUTO POSTO FREITAS & MAIA LTDA   \n",
              "10                               AUTO POSTO DA PEDRA LTDA   \n",
              "14                  COMERCIO DE COMBUSTIVEIS NENZITA LTDA   \n",
              "19                         MARCOS ANTONIO DA SILVA CABRAL   \n",
              "...                                                   ...   \n",
              "168392                           AUTO POSTO KM BAURU LTDA   \n",
              "168394      COOPERCITRUS COOPERATIVA DE PRODUTORES RURAIS   \n",
              "168399  VICMAR COMERCIO DE COMBUSTIVEIS E LUBRIFICANTE...   \n",
              "168403         COMERCIAL DE COMBUSTIVEL CACHOEIRINHA LTDA   \n",
              "168405                  ABC DISTRIBUICAO DE PETROLEO LTDA   \n",
              "\n",
              "                    Municipio   Produto  Valor de Venda  \n",
              "0                   ARAPIRACA  GASOLINA           6.799  \n",
              "5             DELMIRO GOUVEIA  GASOLINA           7.198  \n",
              "10            DELMIRO GOUVEIA  GASOLINA           7.197  \n",
              "14            DELMIRO GOUVEIA  GASOLINA           7.175  \n",
              "19                ITACOATIARA  GASOLINA           6.990  \n",
              "...                       ...       ...             ...  \n",
              "168392                  BAURU  GASOLINA           6.199  \n",
              "168394              ITUIUTABA  GASOLINA           6.899  \n",
              "168399  CAMPOS DOS GOYTACAZES  GASOLINA           7.090  \n",
              "168403                 JEQUIE  GASOLINA           6.799  \n",
              "168405              ITUIUTABA  GASOLINA           6.580  \n",
              "\n",
              "[42209 rows x 4 columns]"
            ],
            "text/html": [
              "\n",
              "  <div id=\"df-3b28b81d-2370-4c08-a036-a865d2ed04c1\">\n",
              "    <div class=\"colab-df-container\">\n",
              "      <div>\n",
              "<style scoped>\n",
              "    .dataframe tbody tr th:only-of-type {\n",
              "        vertical-align: middle;\n",
              "    }\n",
              "\n",
              "    .dataframe tbody tr th {\n",
              "        vertical-align: top;\n",
              "    }\n",
              "\n",
              "    .dataframe thead th {\n",
              "        text-align: right;\n",
              "    }\n",
              "</style>\n",
              "<table border=\"1\" class=\"dataframe\">\n",
              "  <thead>\n",
              "    <tr style=\"text-align: right;\">\n",
              "      <th></th>\n",
              "      <th>Revenda</th>\n",
              "      <th>Municipio</th>\n",
              "      <th>Produto</th>\n",
              "      <th>Valor de Venda</th>\n",
              "    </tr>\n",
              "  </thead>\n",
              "  <tbody>\n",
              "    <tr>\n",
              "      <th>0</th>\n",
              "      <td>POSTO ARAPIRACA LTDA</td>\n",
              "      <td>ARAPIRACA</td>\n",
              "      <td>GASOLINA</td>\n",
              "      <td>6.799</td>\n",
              "    </tr>\n",
              "    <tr>\n",
              "      <th>5</th>\n",
              "      <td>AUTO POSTO FREITAS &amp; MAIA LTDA</td>\n",
              "      <td>DELMIRO GOUVEIA</td>\n",
              "      <td>GASOLINA</td>\n",
              "      <td>7.198</td>\n",
              "    </tr>\n",
              "    <tr>\n",
              "      <th>10</th>\n",
              "      <td>AUTO POSTO DA PEDRA LTDA</td>\n",
              "      <td>DELMIRO GOUVEIA</td>\n",
              "      <td>GASOLINA</td>\n",
              "      <td>7.197</td>\n",
              "    </tr>\n",
              "    <tr>\n",
              "      <th>14</th>\n",
              "      <td>COMERCIO DE COMBUSTIVEIS NENZITA LTDA</td>\n",
              "      <td>DELMIRO GOUVEIA</td>\n",
              "      <td>GASOLINA</td>\n",
              "      <td>7.175</td>\n",
              "    </tr>\n",
              "    <tr>\n",
              "      <th>19</th>\n",
              "      <td>MARCOS ANTONIO DA SILVA CABRAL</td>\n",
              "      <td>ITACOATIARA</td>\n",
              "      <td>GASOLINA</td>\n",
              "      <td>6.990</td>\n",
              "    </tr>\n",
              "    <tr>\n",
              "      <th>...</th>\n",
              "      <td>...</td>\n",
              "      <td>...</td>\n",
              "      <td>...</td>\n",
              "      <td>...</td>\n",
              "    </tr>\n",
              "    <tr>\n",
              "      <th>168392</th>\n",
              "      <td>AUTO POSTO KM BAURU LTDA</td>\n",
              "      <td>BAURU</td>\n",
              "      <td>GASOLINA</td>\n",
              "      <td>6.199</td>\n",
              "    </tr>\n",
              "    <tr>\n",
              "      <th>168394</th>\n",
              "      <td>COOPERCITRUS COOPERATIVA DE PRODUTORES RURAIS</td>\n",
              "      <td>ITUIUTABA</td>\n",
              "      <td>GASOLINA</td>\n",
              "      <td>6.899</td>\n",
              "    </tr>\n",
              "    <tr>\n",
              "      <th>168399</th>\n",
              "      <td>VICMAR COMERCIO DE COMBUSTIVEIS E LUBRIFICANTE...</td>\n",
              "      <td>CAMPOS DOS GOYTACAZES</td>\n",
              "      <td>GASOLINA</td>\n",
              "      <td>7.090</td>\n",
              "    </tr>\n",
              "    <tr>\n",
              "      <th>168403</th>\n",
              "      <td>COMERCIAL DE COMBUSTIVEL CACHOEIRINHA LTDA</td>\n",
              "      <td>JEQUIE</td>\n",
              "      <td>GASOLINA</td>\n",
              "      <td>6.799</td>\n",
              "    </tr>\n",
              "    <tr>\n",
              "      <th>168405</th>\n",
              "      <td>ABC DISTRIBUICAO DE PETROLEO LTDA</td>\n",
              "      <td>ITUIUTABA</td>\n",
              "      <td>GASOLINA</td>\n",
              "      <td>6.580</td>\n",
              "    </tr>\n",
              "  </tbody>\n",
              "</table>\n",
              "<p>42209 rows × 4 columns</p>\n",
              "</div>\n",
              "      <button class=\"colab-df-convert\" onclick=\"convertToInteractive('df-3b28b81d-2370-4c08-a036-a865d2ed04c1')\"\n",
              "              title=\"Convert this dataframe to an interactive table.\"\n",
              "              style=\"display:none;\">\n",
              "        \n",
              "  <svg xmlns=\"http://www.w3.org/2000/svg\" height=\"24px\"viewBox=\"0 0 24 24\"\n",
              "       width=\"24px\">\n",
              "    <path d=\"M0 0h24v24H0V0z\" fill=\"none\"/>\n",
              "    <path d=\"M18.56 5.44l.94 2.06.94-2.06 2.06-.94-2.06-.94-.94-2.06-.94 2.06-2.06.94zm-11 1L8.5 8.5l.94-2.06 2.06-.94-2.06-.94L8.5 2.5l-.94 2.06-2.06.94zm10 10l.94 2.06.94-2.06 2.06-.94-2.06-.94-.94-2.06-.94 2.06-2.06.94z\"/><path d=\"M17.41 7.96l-1.37-1.37c-.4-.4-.92-.59-1.43-.59-.52 0-1.04.2-1.43.59L10.3 9.45l-7.72 7.72c-.78.78-.78 2.05 0 2.83L4 21.41c.39.39.9.59 1.41.59.51 0 1.02-.2 1.41-.59l7.78-7.78 2.81-2.81c.8-.78.8-2.07 0-2.86zM5.41 20L4 18.59l7.72-7.72 1.47 1.35L5.41 20z\"/>\n",
              "  </svg>\n",
              "      </button>\n",
              "      \n",
              "  <style>\n",
              "    .colab-df-container {\n",
              "      display:flex;\n",
              "      flex-wrap:wrap;\n",
              "      gap: 12px;\n",
              "    }\n",
              "\n",
              "    .colab-df-convert {\n",
              "      background-color: #E8F0FE;\n",
              "      border: none;\n",
              "      border-radius: 50%;\n",
              "      cursor: pointer;\n",
              "      display: none;\n",
              "      fill: #1967D2;\n",
              "      height: 32px;\n",
              "      padding: 0 0 0 0;\n",
              "      width: 32px;\n",
              "    }\n",
              "\n",
              "    .colab-df-convert:hover {\n",
              "      background-color: #E2EBFA;\n",
              "      box-shadow: 0px 1px 2px rgba(60, 64, 67, 0.3), 0px 1px 3px 1px rgba(60, 64, 67, 0.15);\n",
              "      fill: #174EA6;\n",
              "    }\n",
              "\n",
              "    [theme=dark] .colab-df-convert {\n",
              "      background-color: #3B4455;\n",
              "      fill: #D2E3FC;\n",
              "    }\n",
              "\n",
              "    [theme=dark] .colab-df-convert:hover {\n",
              "      background-color: #434B5C;\n",
              "      box-shadow: 0px 1px 3px 1px rgba(0, 0, 0, 0.15);\n",
              "      filter: drop-shadow(0px 1px 2px rgba(0, 0, 0, 0.3));\n",
              "      fill: #FFFFFF;\n",
              "    }\n",
              "  </style>\n",
              "\n",
              "      <script>\n",
              "        const buttonEl =\n",
              "          document.querySelector('#df-3b28b81d-2370-4c08-a036-a865d2ed04c1 button.colab-df-convert');\n",
              "        buttonEl.style.display =\n",
              "          google.colab.kernel.accessAllowed ? 'block' : 'none';\n",
              "\n",
              "        async function convertToInteractive(key) {\n",
              "          const element = document.querySelector('#df-3b28b81d-2370-4c08-a036-a865d2ed04c1');\n",
              "          const dataTable =\n",
              "            await google.colab.kernel.invokeFunction('convertToInteractive',\n",
              "                                                     [key], {});\n",
              "          if (!dataTable) return;\n",
              "\n",
              "          const docLinkHtml = 'Like what you see? Visit the ' +\n",
              "            '<a target=\"_blank\" href=https://colab.research.google.com/notebooks/data_table.ipynb>data table notebook</a>'\n",
              "            + ' to learn more about interactive tables.';\n",
              "          element.innerHTML = '';\n",
              "          dataTable['output_type'] = 'display_data';\n",
              "          await google.colab.output.renderOutput(dataTable, element);\n",
              "          const docLink = document.createElement('div');\n",
              "          docLink.innerHTML = docLinkHtml;\n",
              "          element.appendChild(docLink);\n",
              "        }\n",
              "      </script>\n",
              "    </div>\n",
              "  </div>\n",
              "  "
            ]
          },
          "metadata": {}
        }
      ]
    },
    {
      "cell_type": "code",
      "source": [
        "display(gas_df['Valor de Venda'].max())"
      ],
      "metadata": {
        "colab": {
          "base_uri": "https://localhost:8080/",
          "height": 34
        },
        "id": "OHED1zIpgkUt",
        "outputId": "99218e9c-5658-4499-e647-ffce7bea8526"
      },
      "execution_count": 33,
      "outputs": [
        {
          "output_type": "display_data",
          "data": {
            "text/plain": [
              "7.999"
            ]
          },
          "metadata": {}
        }
      ]
    },
    {
      "cell_type": "code",
      "source": [
        "#Se eu quiser qual é o posto e municipio mais cara do Brasil\n",
        "display(gas_df[['Revenda', 'Municipio', 'Valor de Venda']].max())"
      ],
      "metadata": {
        "colab": {
          "base_uri": "https://localhost:8080/",
          "height": 86
        },
        "id": "dYeHCfu0hMXH",
        "outputId": "7a622734-b7ea-4d9c-913f-59b653e44519"
      },
      "execution_count": 38,
      "outputs": [
        {
          "output_type": "display_data",
          "data": {
            "text/plain": [
              "Revenda           ZV POSTO DE SERVIÇO LTDA.\n",
              "Municipio                           XANXERE\n",
              "Valor de Venda                        7.999\n",
              "dtype: object"
            ]
          },
          "metadata": {}
        }
      ]
    },
    {
      "cell_type": "code",
      "source": [
        "gas_df = gas_df.loc[gas_df['Municipio'] == 'JOINVILLE'].max()\n",
        "display(gas_df)"
      ],
      "metadata": {
        "id": "ddtyWJ_UgAt0"
      },
      "execution_count": null,
      "outputs": []
    }
  ]
}